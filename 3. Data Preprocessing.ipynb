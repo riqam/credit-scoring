{
 "cells": [
  {
   "cell_type": "markdown",
   "metadata": {},
   "source": [
    "# Import Library"
   ]
  },
  {
   "cell_type": "code",
   "execution_count": 21,
   "metadata": {},
   "outputs": [],
   "source": [
    "import pandas as pd\n",
    "import numpy as np\n",
    "import src.utils as utils\n",
    "\n",
    "from sklearn.preprocessing import StandardScaler\n",
    "from sklearn.impute import SimpleImputer\n",
    "from imblearn.under_sampling import RandomUnderSampler"
   ]
  },
  {
   "cell_type": "markdown",
   "metadata": {},
   "source": [
    "# Load Configuration File"
   ]
  },
  {
   "cell_type": "code",
   "execution_count": 3,
   "metadata": {},
   "outputs": [
    {
     "data": {
      "text/plain": [
       "{'raw_dataset_path': 'data/raw/data.csv',\n",
       " 'data_set_path': 'data/output/data.pkl',\n",
       " 'input_set_path': 'data/output/input.pkl',\n",
       " 'output_set_path': 'data/output/output.pkl',\n",
       " 'input_columns_path': 'data/output/input_columns.pkl',\n",
       " 'train_set_path': ['data/output/X_train.pkl', 'data/output/y_train.pkl'],\n",
       " 'valid_set_path': ['data/output/X_valid.pkl', 'data/output/y_valid.pkl'],\n",
       " 'test_set_path': ['data/output/X_test.pkl', 'data/output/y_test.pkl'],\n",
       " 'index_column': 'Unnamed: 0',\n",
       " 'output_column': 'SeriousDlqin2yrs',\n",
       " 'seed': 42,\n",
       " 'test_size': 0.2,\n",
       " 'clean_late_col': 'NumberOfTimes90DaysLate',\n",
       " 'clean_late_val': 96,\n",
       " 'clean_unsecure_col': 'RevolvingUtilizationOfUnsecuredLines',\n",
       " 'constant_imputer_col': 'NumberOfDependents',\n",
       " 'constant_imputer_path': 'data/output/constant_imputer.pkl',\n",
       " 'constant_imputer_val': 0.0,\n",
       " 'median_imputer_col': 'MonthlyIncome',\n",
       " 'median_imputer_path': 'data/output/median_imputer.pkl',\n",
       " 'standardizer_path': 'data/output/standardizer.pkl',\n",
       " 'preprocessor_path': 'data/output/preprocessor.pkl',\n",
       " 'train_clean_path': ['data/output/X_train_clean.pkl',\n",
       "  'data/output/y_train_clean.pkl'],\n",
       " 'valid_clean_path': ['data/output/X_valid_clean.pkl',\n",
       "  'data/output/y_valid_clean.pkl'],\n",
       " 'test_clean_path': ['data/output/X_test_clean.pkl',\n",
       "  'data/output/y_test_clean.pkl'],\n",
       " 'list_of_model_path': 'log/list_of_model.pkl',\n",
       " 'list_of_param_path': 'log/list_of_param.pkl',\n",
       " 'list_of_tuned_model_path': 'log/list_of_tuned_model.pkl',\n",
       " 'best_model_path': 'models/best_model.pkl',\n",
       " 'best_threshold_path': 'models/best_threshold.pkl'}"
      ]
     },
     "execution_count": 3,
     "metadata": {},
     "output_type": "execute_result"
    }
   ],
   "source": [
    "CONFIG_DATA = utils.config_load()\n",
    "CONFIG_DATA"
   ]
  },
  {
   "cell_type": "markdown",
   "metadata": {},
   "source": [
    "### Preprocessing Plan\n",
    "EDA Summary:\n",
    "- For <span style=\"background-color: #767676;\">NumberOfTimes90DaysLate = 96</span> or <span style=\"background-color: #767676;\">NumberOfTimes90DaysLate = 98</span> will be deleted.\n",
    "\n",
    "- For <span style=\"background-color: #767676;\">RevolvingUtilizationOfUnsecuredLines > 1.35</span> will be deleted.\n",
    "\n",
    "- For <span style=\"background-color: #767676;\">MonthlyIncome</span> and <span style=\"background-color: #767676;\">NumberOfDependents = 0.0</span> will be applied by median\n",
    "\n",
    "- Standardize the data\n",
    "\n",
    "- Balance the data"
   ]
  },
  {
   "cell_type": "markdown",
   "metadata": {},
   "source": [
    "# Load Dataset"
   ]
  },
  {
   "cell_type": "code",
   "execution_count": 5,
   "metadata": {},
   "outputs": [
    {
     "name": "stdout",
     "output_type": "stream",
     "text": [
      "X_train shape : (96000, 10)\n",
      "y_train shape : (96000,)\n",
      "X_valid shape : (24000, 10)\n",
      "y_valid shape : (24000,)\n",
      "X_test shape  : (30000, 10)\n",
      "y_test shape  : (30000,)\n"
     ]
    }
   ],
   "source": [
    "def load_dataset(return_file=True):\n",
    "    # Load train data\n",
    "    X_train = utils.pickle_load(CONFIG_DATA['train_set_path'][0])\n",
    "    y_train = utils.pickle_load(CONFIG_DATA['train_set_path'][1])\n",
    "\n",
    "    # Load valid data\n",
    "    X_valid = utils.pickle_load(CONFIG_DATA['valid_set_path'][0])\n",
    "    y_valid = utils.pickle_load(CONFIG_DATA['valid_set_path'][1])\n",
    "\n",
    "    # Load test data\n",
    "    X_test = utils.pickle_load(CONFIG_DATA['test_set_path'][0])\n",
    "    y_test = utils.pickle_load(CONFIG_DATA['test_set_path'][1])\n",
    "\n",
    "    # Print \n",
    "    print(\"X_train shape :\", X_train.shape)\n",
    "    print(\"y_train shape :\", y_train.shape)\n",
    "    print(\"X_valid shape :\", X_valid.shape)\n",
    "    print(\"y_valid shape :\", y_valid.shape)\n",
    "    print(\"X_test shape  :\", X_test.shape)\n",
    "    print(\"y_test shape  :\", y_test.shape)\n",
    "\n",
    "    if return_file:\n",
    "        return X_train, X_valid, X_test, y_train, y_valid, y_test\n",
    "    \n",
    "X_train, X_valid, X_test, y_train, y_valid, y_test = load_dataset()"
   ]
  },
  {
   "cell_type": "markdown",
   "metadata": {},
   "source": [
    "# Preprocess Train"
   ]
  },
  {
   "cell_type": "markdown",
   "metadata": {},
   "source": [
    "##### 1. Delete <span style=\"background-color: #767676;\">NumberOfTimes90DaysLate = 96</span> or <span style=\"background-color: #767676;\">NumberOfTimes90DaysLate = 98</span>"
   ]
  },
  {
   "cell_type": "code",
   "execution_count": 6,
   "metadata": {},
   "outputs": [
    {
     "name": "stdout",
     "output_type": "stream",
     "text": [
      "X shape : (95838, 10)\n",
      "y shape : (95838,)\n"
     ]
    }
   ],
   "source": [
    "def clean_late_data(X, y):\n",
    "    \"\"\"Function to clean NumberOfTimes90DaysLate columns\"\"\"\n",
    "    # Find index to drop\n",
    "    drop_condition = X[CONFIG_DATA['clean_late_col']] >= CONFIG_DATA['clean_late_val']\n",
    "    index_to_drop = X[drop_condition].index.tolist()\n",
    "\n",
    "    # Drop data\n",
    "    X_drop = X.drop(index = index_to_drop)\n",
    "    y_drop = y.drop(index = index_to_drop)\n",
    "\n",
    "    # Print\n",
    "    print(\"X shape :\", X_drop.shape)\n",
    "    print(\"y shape :\", y_drop.shape)\n",
    "\n",
    "    return X_drop, y_drop\n",
    "\n",
    "X_train_drop_1, y_train_drop_1 = clean_late_data(X_train, y_train)"
   ]
  },
  {
   "cell_type": "markdown",
   "metadata": {},
   "source": [
    "#### 2. Delete <span style=\"background-color: #767676;\">RevolvingUtilizationOfUnsecuredLines > 1.35</span>"
   ]
  },
  {
   "cell_type": "code",
   "execution_count": 7,
   "metadata": {},
   "outputs": [
    {
     "name": "stdout",
     "output_type": "stream",
     "text": [
      "X shape : (95350, 10)\n",
      "y shape : (95350,)\n"
     ]
    }
   ],
   "source": [
    "def clean_unsecured_data(X, y):\n",
    "    \"\"\"Function to clean RevolvingUtilizationOfUnsecuredLines columns from outlier\"\"\"\n",
    "    # Find upper boundary & lower boundary\n",
    "    q1, q3 = np.quantile(X[CONFIG_DATA['clean_unsecure_col']], q = [0.25, 0.75])\n",
    "    iqr = q3-q1\n",
    "    ub = q3 + 1.5*iqr\n",
    "    lb = q1 - 1.5*iqr\n",
    "\n",
    "    # Filter data\n",
    "    drop_condition_1 = X[CONFIG_DATA['clean_unsecure_col']] > ub\n",
    "    drop_condition_2 = X[CONFIG_DATA['clean_unsecure_col']] < lb\n",
    "    index_to_drop = X[drop_condition_1 | drop_condition_2].index.tolist()\n",
    "\n",
    "    # Drop data\n",
    "    X_drop = X.drop(index = index_to_drop)\n",
    "    y_drop = y.drop(index = index_to_drop)\n",
    "\n",
    "    # Print\n",
    "    print(\"X shape :\", X_drop.shape)\n",
    "    print(\"y shape :\", y_drop.shape)\n",
    "\n",
    "    return X_drop, y_drop\n",
    "\n",
    "X_train_drop_2, y_train_drop_2 = clean_unsecured_data(X_train_drop_1, y_train_drop_1)"
   ]
  },
  {
   "cell_type": "markdown",
   "metadata": {},
   "source": [
    "#### 3. Impute Missing Values"
   ]
  },
  {
   "cell_type": "code",
   "execution_count": 8,
   "metadata": {},
   "outputs": [],
   "source": [
    "def fit_imputer(data, return_file=True):\n",
    "    \"\"\"Function to fit imputer (constant & median)\"\"\"\n",
    "    # Create imputer\n",
    "    constant_imputer = SimpleImputer(missing_values = np.nan,\n",
    "                                     strategy = \"constant\",\n",
    "                                     fill_value = CONFIG_DATA['constant_imputer_val'])\n",
    "    \n",
    "    median_imputer = SimpleImputer(missing_values = np.nan,\n",
    "                                   strategy = \"median\")\n",
    "    \n",
    "    # Fit imputer\n",
    "    constant_imputer.fit(data[[CONFIG_DATA['constant_imputer_col']]])\n",
    "    median_imputer.fit(data[[CONFIG_DATA['median_imputer_col']]])\n",
    "\n",
    "    # Dump imputer\n",
    "    utils.pickle_dump(constant_imputer, CONFIG_DATA['constant_imputer_path'])\n",
    "    utils.pickle_dump(median_imputer, CONFIG_DATA['median_imputer_path'])\n",
    "\n",
    "    if return_file:\n",
    "        return constant_imputer, median_imputer"
   ]
  },
  {
   "cell_type": "code",
   "execution_count": 9,
   "metadata": {},
   "outputs": [],
   "source": [
    "# Fit imputer\n",
    "constant_imputer, median_imputer = fit_imputer(data = X_train_drop_2)"
   ]
  },
  {
   "cell_type": "code",
   "execution_count": 10,
   "metadata": {},
   "outputs": [],
   "source": [
    "def transform_imputer(data, constant_imputer, median_imputer):\n",
    "    \"\"\"Function to transform imputer\"\"\"\n",
    "    data = data.copy()\n",
    "\n",
    "    # Transform\n",
    "    impute_constant = constant_imputer.transform(data[[CONFIG_DATA['constant_imputer_col']]])\n",
    "    impute_median = median_imputer.transform(data[[CONFIG_DATA['median_imputer_col']]])\n",
    "\n",
    "    # Join transformed data\n",
    "    data[CONFIG_DATA['constant_imputer_col']] = impute_constant\n",
    "    data[CONFIG_DATA['median_imputer_col']] = impute_median\n",
    "    \n",
    "    # print\n",
    "    print('data shape :', data.shape)\n",
    "\n",
    "    return data"
   ]
  },
  {
   "cell_type": "code",
   "execution_count": 11,
   "metadata": {},
   "outputs": [
    {
     "name": "stdout",
     "output_type": "stream",
     "text": [
      "data shape : (95350, 10)\n"
     ]
    }
   ],
   "source": [
    "X_train_imputed = transform_imputer(data = X_train_drop_2,\n",
    "                                    constant_imputer = constant_imputer,\n",
    "                                    median_imputer = median_imputer)"
   ]
  },
  {
   "cell_type": "code",
   "execution_count": 14,
   "metadata": {},
   "outputs": [
    {
     "data": {
      "text/plain": [
       "RevolvingUtilizationOfUnsecuredLines    0\n",
       "age                                     0\n",
       "NumberOfTime30-59DaysPastDueNotWorse    0\n",
       "DebtRatio                               0\n",
       "MonthlyIncome                           0\n",
       "NumberOfOpenCreditLinesAndLoans         0\n",
       "NumberOfTimes90DaysLate                 0\n",
       "NumberRealEstateLoansOrLines            0\n",
       "NumberOfTime60-89DaysPastDueNotWorse    0\n",
       "NumberOfDependents                      0\n",
       "dtype: int64"
      ]
     },
     "execution_count": 14,
     "metadata": {},
     "output_type": "execute_result"
    }
   ],
   "source": [
    "# Check missing values after imputation\n",
    "X_train_imputed.isna().sum()"
   ]
  },
  {
   "cell_type": "markdown",
   "metadata": {},
   "source": [
    "#### 4. Standardize the data"
   ]
  },
  {
   "cell_type": "code",
   "execution_count": 15,
   "metadata": {},
   "outputs": [],
   "source": [
    "def fit_standardize(data, return_file=True):\n",
    "    \"\"\"Find standardizer data\"\"\"\n",
    "    standardizer = StandardScaler()\n",
    "\n",
    "    # Fit standardizer\n",
    "    standardizer.fit(data)\n",
    "\n",
    "    # Dump standardizer\n",
    "    utils.pickle_dump(standardizer, CONFIG_DATA['standardizer_path'])\n",
    "    \n",
    "    if return_file:\n",
    "        return standardizer"
   ]
  },
  {
   "cell_type": "code",
   "execution_count": 16,
   "metadata": {},
   "outputs": [],
   "source": [
    "# Fit standardizer\n",
    "standardizer = fit_standardize(data=X_train_imputed)"
   ]
  },
  {
   "cell_type": "code",
   "execution_count": 17,
   "metadata": {},
   "outputs": [],
   "source": [
    "def transform_standardize(data, standardizer):\n",
    "    \"\"\"Function to standardize data\"\"\"\n",
    "    data_standard = pd.DataFrame(standardizer.transform(data))\n",
    "    data_standard.columns = data.columns\n",
    "    data_standard.index = data.index\n",
    "    return data_standard"
   ]
  },
  {
   "cell_type": "code",
   "execution_count": 18,
   "metadata": {},
   "outputs": [],
   "source": [
    "# Transform\n",
    "X_train_std = transform_standardize(data = X_train_imputed,\n",
    "                                    standardizer = standardizer)"
   ]
  },
  {
   "cell_type": "code",
   "execution_count": 19,
   "metadata": {},
   "outputs": [
    {
     "data": {
      "text/html": [
       "<div>\n",
       "<style scoped>\n",
       "    .dataframe tbody tr th:only-of-type {\n",
       "        vertical-align: middle;\n",
       "    }\n",
       "\n",
       "    .dataframe tbody tr th {\n",
       "        vertical-align: top;\n",
       "    }\n",
       "\n",
       "    .dataframe thead th {\n",
       "        text-align: right;\n",
       "    }\n",
       "</style>\n",
       "<table border=\"1\" class=\"dataframe\">\n",
       "  <thead>\n",
       "    <tr style=\"text-align: right;\">\n",
       "      <th></th>\n",
       "      <th>RevolvingUtilizationOfUnsecuredLines</th>\n",
       "      <th>age</th>\n",
       "      <th>NumberOfTime30-59DaysPastDueNotWorse</th>\n",
       "      <th>DebtRatio</th>\n",
       "      <th>MonthlyIncome</th>\n",
       "      <th>NumberOfOpenCreditLinesAndLoans</th>\n",
       "      <th>NumberOfTimes90DaysLate</th>\n",
       "      <th>NumberRealEstateLoansOrLines</th>\n",
       "      <th>NumberOfTime60-89DaysPastDueNotWorse</th>\n",
       "      <th>NumberOfDependents</th>\n",
       "    </tr>\n",
       "  </thead>\n",
       "  <tbody>\n",
       "    <tr>\n",
       "      <th>count</th>\n",
       "      <td>9.535000e+04</td>\n",
       "      <td>9.535000e+04</td>\n",
       "      <td>9.535000e+04</td>\n",
       "      <td>9.535000e+04</td>\n",
       "      <td>9.535000e+04</td>\n",
       "      <td>9.535000e+04</td>\n",
       "      <td>9.535000e+04</td>\n",
       "      <td>9.535000e+04</td>\n",
       "      <td>9.535000e+04</td>\n",
       "      <td>9.535000e+04</td>\n",
       "    </tr>\n",
       "    <tr>\n",
       "      <th>mean</th>\n",
       "      <td>8.395545e-17</td>\n",
       "      <td>-5.305783e-17</td>\n",
       "      <td>3.815395e-17</td>\n",
       "      <td>-4.471166e-18</td>\n",
       "      <td>2.213227e-17</td>\n",
       "      <td>-1.080532e-16</td>\n",
       "      <td>-3.875010e-18</td>\n",
       "      <td>7.515284e-17</td>\n",
       "      <td>-3.591836e-17</td>\n",
       "      <td>-6.326699e-17</td>\n",
       "    </tr>\n",
       "    <tr>\n",
       "      <th>std</th>\n",
       "      <td>1.000005e+00</td>\n",
       "      <td>1.000005e+00</td>\n",
       "      <td>1.000005e+00</td>\n",
       "      <td>1.000005e+00</td>\n",
       "      <td>1.000005e+00</td>\n",
       "      <td>1.000005e+00</td>\n",
       "      <td>1.000005e+00</td>\n",
       "      <td>1.000005e+00</td>\n",
       "      <td>1.000005e+00</td>\n",
       "      <td>1.000005e+00</td>\n",
       "    </tr>\n",
       "    <tr>\n",
       "      <th>min</th>\n",
       "      <td>-9.054568e-01</td>\n",
       "      <td>-2.128718e+00</td>\n",
       "      <td>-3.511723e-01</td>\n",
       "      <td>-1.734617e-01</td>\n",
       "      <td>-4.700236e-01</td>\n",
       "      <td>-1.652050e+00</td>\n",
       "      <td>-1.855588e-01</td>\n",
       "      <td>-9.025782e-01</td>\n",
       "      <td>-1.946529e-01</td>\n",
       "      <td>-6.655234e-01</td>\n",
       "    </tr>\n",
       "    <tr>\n",
       "      <th>25%</th>\n",
       "      <td>-8.204950e-01</td>\n",
       "      <td>-7.721203e-01</td>\n",
       "      <td>-3.511723e-01</td>\n",
       "      <td>-1.733744e-01</td>\n",
       "      <td>-1.844315e-01</td>\n",
       "      <td>-6.790339e-01</td>\n",
       "      <td>-1.855588e-01</td>\n",
       "      <td>-9.025782e-01</td>\n",
       "      <td>-1.946529e-01</td>\n",
       "      <td>-6.655234e-01</td>\n",
       "    </tr>\n",
       "    <tr>\n",
       "      <th>50%</th>\n",
       "      <td>-4.718411e-01</td>\n",
       "      <td>-2.599161e-02</td>\n",
       "      <td>-3.511723e-01</td>\n",
       "      <td>-1.732795e-01</td>\n",
       "      <td>-7.468973e-02</td>\n",
       "      <td>-9.522398e-02</td>\n",
       "      <td>-1.855588e-01</td>\n",
       "      <td>-1.959509e-02</td>\n",
       "      <td>-1.946529e-01</td>\n",
       "      <td>-6.655234e-01</td>\n",
       "    </tr>\n",
       "    <tr>\n",
       "      <th>75%</th>\n",
       "      <td>6.590006e-01</td>\n",
       "      <td>7.201370e-01</td>\n",
       "      <td>-3.511723e-01</td>\n",
       "      <td>-1.730330e-01</td>\n",
       "      <td>7.173021e-02</td>\n",
       "      <td>4.885859e-01</td>\n",
       "      <td>-1.855588e-01</td>\n",
       "      <td>8.633880e-01</td>\n",
       "      <td>-1.946529e-01</td>\n",
       "      <td>2.388183e-01</td>\n",
       "    </tr>\n",
       "    <tr>\n",
       "      <th>max</th>\n",
       "      <td>2.940152e+00</td>\n",
       "      <td>3.840311e+00</td>\n",
       "      <td>1.693327e+01</td>\n",
       "      <td>1.615339e+02</td>\n",
       "      <td>2.198005e+02</td>\n",
       "      <td>9.634941e+00</td>\n",
       "      <td>3.196411e+01</td>\n",
       "      <td>4.677851e+01</td>\n",
       "      <td>3.404343e+01</td>\n",
       "      <td>1.109092e+01</td>\n",
       "    </tr>\n",
       "  </tbody>\n",
       "</table>\n",
       "</div>"
      ],
      "text/plain": [
       "       RevolvingUtilizationOfUnsecuredLines           age  \\\n",
       "count                          9.535000e+04  9.535000e+04   \n",
       "mean                           8.395545e-17 -5.305783e-17   \n",
       "std                            1.000005e+00  1.000005e+00   \n",
       "min                           -9.054568e-01 -2.128718e+00   \n",
       "25%                           -8.204950e-01 -7.721203e-01   \n",
       "50%                           -4.718411e-01 -2.599161e-02   \n",
       "75%                            6.590006e-01  7.201370e-01   \n",
       "max                            2.940152e+00  3.840311e+00   \n",
       "\n",
       "       NumberOfTime30-59DaysPastDueNotWorse     DebtRatio  MonthlyIncome  \\\n",
       "count                          9.535000e+04  9.535000e+04   9.535000e+04   \n",
       "mean                           3.815395e-17 -4.471166e-18   2.213227e-17   \n",
       "std                            1.000005e+00  1.000005e+00   1.000005e+00   \n",
       "min                           -3.511723e-01 -1.734617e-01  -4.700236e-01   \n",
       "25%                           -3.511723e-01 -1.733744e-01  -1.844315e-01   \n",
       "50%                           -3.511723e-01 -1.732795e-01  -7.468973e-02   \n",
       "75%                           -3.511723e-01 -1.730330e-01   7.173021e-02   \n",
       "max                            1.693327e+01  1.615339e+02   2.198005e+02   \n",
       "\n",
       "       NumberOfOpenCreditLinesAndLoans  NumberOfTimes90DaysLate  \\\n",
       "count                     9.535000e+04             9.535000e+04   \n",
       "mean                     -1.080532e-16            -3.875010e-18   \n",
       "std                       1.000005e+00             1.000005e+00   \n",
       "min                      -1.652050e+00            -1.855588e-01   \n",
       "25%                      -6.790339e-01            -1.855588e-01   \n",
       "50%                      -9.522398e-02            -1.855588e-01   \n",
       "75%                       4.885859e-01            -1.855588e-01   \n",
       "max                       9.634941e+00             3.196411e+01   \n",
       "\n",
       "       NumberRealEstateLoansOrLines  NumberOfTime60-89DaysPastDueNotWorse  \\\n",
       "count                  9.535000e+04                          9.535000e+04   \n",
       "mean                   7.515284e-17                         -3.591836e-17   \n",
       "std                    1.000005e+00                          1.000005e+00   \n",
       "min                   -9.025782e-01                         -1.946529e-01   \n",
       "25%                   -9.025782e-01                         -1.946529e-01   \n",
       "50%                   -1.959509e-02                         -1.946529e-01   \n",
       "75%                    8.633880e-01                         -1.946529e-01   \n",
       "max                    4.677851e+01                          3.404343e+01   \n",
       "\n",
       "       NumberOfDependents  \n",
       "count        9.535000e+04  \n",
       "mean        -6.326699e-17  \n",
       "std          1.000005e+00  \n",
       "min         -6.655234e-01  \n",
       "25%         -6.655234e-01  \n",
       "50%         -6.655234e-01  \n",
       "75%          2.388183e-01  \n",
       "max          1.109092e+01  "
      ]
     },
     "execution_count": 19,
     "metadata": {},
     "output_type": "execute_result"
    }
   ],
   "source": [
    "X_train_std.describe()"
   ]
  },
  {
   "cell_type": "markdown",
   "metadata": {},
   "source": [
    "#### 5. Balance the data"
   ]
  },
  {
   "cell_type": "code",
   "execution_count": 20,
   "metadata": {},
   "outputs": [
    {
     "data": {
      "text/plain": [
       "0    0.93526\n",
       "1    0.06474\n",
       "Name: SeriousDlqin2yrs, dtype: float64"
      ]
     },
     "execution_count": 20,
     "metadata": {},
     "output_type": "execute_result"
    }
   ],
   "source": [
    "# Check unbalance data\n",
    "y_train_drop_2.value_counts(normalize=True)"
   ]
  },
  {
   "cell_type": "markdown",
   "metadata": {},
   "source": [
    "_Because unbalance data, we have to balancing the data._\n",
    "_We will do the **downsampling** (only for training data)_"
   ]
  },
  {
   "cell_type": "code",
   "execution_count": 23,
   "metadata": {},
   "outputs": [
    {
     "name": "stdout",
     "output_type": "stream",
     "text": [
      "Distribution before resampling :\n",
      "0    89177\n",
      "1     6173\n",
      "Name: SeriousDlqin2yrs, dtype: int64\n",
      "\n",
      "Distribution after resampling  :\n",
      "0    6173\n",
      "1    6173\n",
      "Name: SeriousDlqin2yrs, dtype: int64\n"
     ]
    }
   ],
   "source": [
    "def random_undersampler(X, y):\n",
    "    \"\"\"Function to under sample the majority data\"\"\"\n",
    "    # Create resampling object\n",
    "    ros = RandomUnderSampler(random_state = CONFIG_DATA['seed'])\n",
    "\n",
    "    # Balancing the set data\n",
    "    X_resample, y_resample = ros.fit_resample(X, y)\n",
    "\n",
    "    # Print\n",
    "    print('Distribution before resampling :')\n",
    "    print(y.value_counts())\n",
    "    print(\"\")\n",
    "    print('Distribution after resampling  :')\n",
    "    print(y_resample.value_counts())\n",
    "\n",
    "    return X_resample, y_resample\n",
    "\n",
    "\n",
    "X_train_clean, y_train_clean = random_undersampler(X_train_std, y_train_drop_2)"
   ]
  },
  {
   "cell_type": "code",
   "execution_count": 24,
   "metadata": {},
   "outputs": [],
   "source": [
    "# Drop all processor\n",
    "\n",
    "preprocessor = {\n",
    "    'constant_imputer': constant_imputer,\n",
    "    'median_imputer': median_imputer,\n",
    "    'standardizer': standardizer\n",
    "}\n",
    "\n",
    "utils.pickle_dump(preprocessor, CONFIG_DATA['preprocessor_path'])"
   ]
  },
  {
   "cell_type": "markdown",
   "metadata": {},
   "source": [
    "# Run all step of preprocessing data"
   ]
  },
  {
   "cell_type": "code",
   "execution_count": 25,
   "metadata": {},
   "outputs": [],
   "source": [
    "def clean_data(data, constant_imputer, median_imputer, standardizer):\n",
    "    \"\"\"Function to clean data\"\"\"\n",
    "    # Impute missing value\n",
    "    data_imputed = transform_imputer(data, constant_imputer, median_imputer)\n",
    "\n",
    "    # Standardize data\n",
    "    data_standard = transform_standardize(data_imputed, standardizer)\n",
    "\n",
    "    return data_standard\n",
    "\n",
    "def _preprocess_data(data):\n",
    "    \"\"\"Function to preprocess data\"\"\"\n",
    "    # Load preprocessor\n",
    "    preprocessor = utils.pickle_load(CONFIG_DATA['preprocessor_path'])\n",
    "    constant_imputer = preprocessor['constant_imputer']\n",
    "    median_imputer = preprocessor['median_imputer']\n",
    "    standardizer = preprocessor['standardizer']\n",
    "\n",
    "    data_clean = clean_data(data,\n",
    "                            constant_imputer,\n",
    "                            median_imputer,\n",
    "                            standardizer)\n",
    "    \n",
    "    return data_clean"
   ]
  },
  {
   "cell_type": "code",
   "execution_count": 26,
   "metadata": {},
   "outputs": [
    {
     "name": "stdout",
     "output_type": "stream",
     "text": [
      "X shape : (95838, 10)\n",
      "y shape : (95838,)\n",
      "X shape : (95350, 10)\n",
      "y shape : (95350,)\n",
      "data shape : (95350, 10)\n"
     ]
    }
   ],
   "source": [
    "def generate_preprocessor(return_file=True):\n",
    "    \"\"\"Function to generate preprocessor\"\"\"\n",
    "    # Load data\n",
    "    X = utils.pickle_load(CONFIG_DATA['train_set_path'][0])\n",
    "    y = utils.pickle_load(CONFIG_DATA['train_set_path'][1])\n",
    "\n",
    "    # Drop unusual data\n",
    "    X, y = clean_late_data(X, y)\n",
    "    X, y = clean_unsecured_data(X, y)\n",
    "\n",
    "    # Generate preprocessor: imputer\n",
    "    constant_imputer, median_imputer = fit_imputer(data = X)\n",
    "    X_imputed = transform_imputer(X, constant_imputer, median_imputer)\n",
    "\n",
    "    # Generate preprocessor: standardizer\n",
    "    standardizer = fit_standardize(X_imputed)\n",
    "\n",
    "    # Dump file\n",
    "    preprocessor = {\n",
    "        'constant_imputer': constant_imputer,\n",
    "        'median_imputer': median_imputer,\n",
    "        'standardizer': standardizer\n",
    "    }\n",
    "    utils.pickle_dump(preprocessor, CONFIG_DATA['preprocessor_path'])\n",
    "    \n",
    "    if return_file:\n",
    "        return preprocessor\n",
    "    \n",
    "preprocessor = generate_preprocessor()"
   ]
  },
  {
   "cell_type": "code",
   "execution_count": 27,
   "metadata": {},
   "outputs": [],
   "source": [
    "# Function to preprocess train data\n",
    "\n",
    "def preprocess_data(type='train', return_file=True):\n",
    "    # Load data\n",
    "    X = utils.pickle_load(CONFIG_DATA[f'{type}_set_path'][0])\n",
    "    y = utils.pickle_load(CONFIG_DATA[f'{type}_set_path'][1])\n",
    "\n",
    "    if type == 'train':\n",
    "        # Drop unusual data\n",
    "        X, y = clean_late_data(X, y)\n",
    "        X, y = clean_unsecured_data(X, y)\n",
    "        \n",
    "    # Preprocess data\n",
    "    X_clean = _preprocess_data(X)\n",
    "    y_clean = y\n",
    "\n",
    "    # FOR TRAINING ONLY -> DO UNDERSAMPLING\n",
    "    if type == 'train':\n",
    "        X_clean, y_clean = random_undersampler(X_clean, y_clean)\n",
    "\n",
    "    # Print shape\n",
    "    print(\"X clean shape:\", X_clean.shape)\n",
    "    print(\"y clean shape:\", y_clean.shape)\n",
    "\n",
    "    # Dump file\n",
    "    utils.pickle_dump(X_clean, CONFIG_DATA[f'{type}_clean_path'][0])\n",
    "    utils.pickle_dump(y_clean, CONFIG_DATA[f'{type}_clean_path'][1])\n",
    "\n",
    "    if return_file:\n",
    "        return X_clean, y_clean"
   ]
  },
  {
   "cell_type": "code",
   "execution_count": 28,
   "metadata": {},
   "outputs": [
    {
     "name": "stdout",
     "output_type": "stream",
     "text": [
      "X shape : (95838, 10)\n",
      "y shape : (95838,)\n",
      "X shape : (95350, 10)\n",
      "y shape : (95350,)\n",
      "data shape : (95350, 10)\n",
      "Distribution before resampling :\n",
      "0    89177\n",
      "1     6173\n",
      "Name: SeriousDlqin2yrs, dtype: int64\n",
      "\n",
      "Distribution after resampling  :\n",
      "0    6173\n",
      "1    6173\n",
      "Name: SeriousDlqin2yrs, dtype: int64\n",
      "X clean shape: (12346, 10)\n",
      "y clean shape: (12346,)\n"
     ]
    }
   ],
   "source": [
    "# Transform X_train\n",
    "X_train_clean, y_train_clean = preprocess_data(type = 'train')"
   ]
  },
  {
   "cell_type": "code",
   "execution_count": 29,
   "metadata": {},
   "outputs": [
    {
     "name": "stdout",
     "output_type": "stream",
     "text": [
      "data shape : (24000, 10)\n",
      "X clean shape: (24000, 10)\n",
      "y clean shape: (24000,)\n"
     ]
    }
   ],
   "source": [
    "# Transform X_valid\n",
    "X_valid_clean, y_valid_clean = preprocess_data(type = 'valid')"
   ]
  },
  {
   "cell_type": "code",
   "execution_count": 30,
   "metadata": {},
   "outputs": [
    {
     "name": "stdout",
     "output_type": "stream",
     "text": [
      "data shape : (30000, 10)\n",
      "X clean shape: (30000, 10)\n",
      "y clean shape: (30000,)\n"
     ]
    }
   ],
   "source": [
    "# Transform X_train\n",
    "X_test_clean, y_test_clean = preprocess_data(type = 'test')"
   ]
  },
  {
   "cell_type": "code",
   "execution_count": 31,
   "metadata": {},
   "outputs": [
    {
     "data": {
      "text/html": [
       "<div>\n",
       "<style scoped>\n",
       "    .dataframe tbody tr th:only-of-type {\n",
       "        vertical-align: middle;\n",
       "    }\n",
       "\n",
       "    .dataframe tbody tr th {\n",
       "        vertical-align: top;\n",
       "    }\n",
       "\n",
       "    .dataframe thead th {\n",
       "        text-align: right;\n",
       "    }\n",
       "</style>\n",
       "<table border=\"1\" class=\"dataframe\">\n",
       "  <thead>\n",
       "    <tr style=\"text-align: right;\">\n",
       "      <th></th>\n",
       "      <th>RevolvingUtilizationOfUnsecuredLines</th>\n",
       "      <th>age</th>\n",
       "      <th>NumberOfTime30-59DaysPastDueNotWorse</th>\n",
       "      <th>DebtRatio</th>\n",
       "      <th>MonthlyIncome</th>\n",
       "      <th>NumberOfOpenCreditLinesAndLoans</th>\n",
       "      <th>NumberOfTimes90DaysLate</th>\n",
       "      <th>NumberRealEstateLoansOrLines</th>\n",
       "      <th>NumberOfTime60-89DaysPastDueNotWorse</th>\n",
       "      <th>NumberOfDependents</th>\n",
       "    </tr>\n",
       "  </thead>\n",
       "  <tbody>\n",
       "    <tr>\n",
       "      <th>count</th>\n",
       "      <td>12346.000000</td>\n",
       "      <td>12346.000000</td>\n",
       "      <td>12346.000000</td>\n",
       "      <td>12346.000000</td>\n",
       "      <td>12346.000000</td>\n",
       "      <td>12346.000000</td>\n",
       "      <td>12346.000000</td>\n",
       "      <td>12346.000000</td>\n",
       "      <td>12346.000000</td>\n",
       "      <td>12346.000000</td>\n",
       "    </tr>\n",
       "    <tr>\n",
       "      <th>mean</th>\n",
       "      <td>0.482452</td>\n",
       "      <td>-0.192693</td>\n",
       "      <td>0.477863</td>\n",
       "      <td>-0.017201</td>\n",
       "      <td>-0.027364</td>\n",
       "      <td>-0.035405</td>\n",
       "      <td>0.548438</td>\n",
       "      <td>-0.001930</td>\n",
       "      <td>0.459825</td>\n",
       "      <td>0.075252</td>\n",
       "    </tr>\n",
       "    <tr>\n",
       "      <th>std</th>\n",
       "      <td>1.142308</td>\n",
       "      <td>0.967600</td>\n",
       "      <td>1.584223</td>\n",
       "      <td>0.544945</td>\n",
       "      <td>0.553847</td>\n",
       "      <td>1.046218</td>\n",
       "      <td>2.072080</td>\n",
       "      <td>1.113499</td>\n",
       "      <td>1.883419</td>\n",
       "      <td>1.044152</td>\n",
       "    </tr>\n",
       "    <tr>\n",
       "      <th>min</th>\n",
       "      <td>-0.905457</td>\n",
       "      <td>-2.128718</td>\n",
       "      <td>-0.351172</td>\n",
       "      <td>-0.173462</td>\n",
       "      <td>-0.470024</td>\n",
       "      <td>-1.652050</td>\n",
       "      <td>-0.185559</td>\n",
       "      <td>-0.902578</td>\n",
       "      <td>-0.194653</td>\n",
       "      <td>-0.665523</td>\n",
       "    </tr>\n",
       "    <tr>\n",
       "      <th>25%</th>\n",
       "      <td>-0.700233</td>\n",
       "      <td>-0.907780</td>\n",
       "      <td>-0.351172</td>\n",
       "      <td>-0.173368</td>\n",
       "      <td>-0.209835</td>\n",
       "      <td>-0.679034</td>\n",
       "      <td>-0.185559</td>\n",
       "      <td>-0.902578</td>\n",
       "      <td>-0.194653</td>\n",
       "      <td>-0.665523</td>\n",
       "    </tr>\n",
       "    <tr>\n",
       "      <th>50%</th>\n",
       "      <td>0.315171</td>\n",
       "      <td>-0.229481</td>\n",
       "      <td>-0.351172</td>\n",
       "      <td>-0.173263</td>\n",
       "      <td>-0.074690</td>\n",
       "      <td>-0.289827</td>\n",
       "      <td>-0.185559</td>\n",
       "      <td>-0.019595</td>\n",
       "      <td>-0.194653</td>\n",
       "      <td>-0.665523</td>\n",
       "    </tr>\n",
       "    <tr>\n",
       "      <th>75%</th>\n",
       "      <td>1.730008</td>\n",
       "      <td>0.448818</td>\n",
       "      <td>1.089198</td>\n",
       "      <td>-0.173009</td>\n",
       "      <td>0.042446</td>\n",
       "      <td>0.488586</td>\n",
       "      <td>-0.185559</td>\n",
       "      <td>0.863388</td>\n",
       "      <td>-0.194653</td>\n",
       "      <td>0.238818</td>\n",
       "    </tr>\n",
       "    <tr>\n",
       "      <th>max</th>\n",
       "      <td>2.928098</td>\n",
       "      <td>3.162013</td>\n",
       "      <td>16.933266</td>\n",
       "      <td>16.095748</td>\n",
       "      <td>47.086222</td>\n",
       "      <td>9.440338</td>\n",
       "      <td>31.964107</td>\n",
       "      <td>27.352880</td>\n",
       "      <td>34.043432</td>\n",
       "      <td>7.473552</td>\n",
       "    </tr>\n",
       "  </tbody>\n",
       "</table>\n",
       "</div>"
      ],
      "text/plain": [
       "       RevolvingUtilizationOfUnsecuredLines           age  \\\n",
       "count                          12346.000000  12346.000000   \n",
       "mean                               0.482452     -0.192693   \n",
       "std                                1.142308      0.967600   \n",
       "min                               -0.905457     -2.128718   \n",
       "25%                               -0.700233     -0.907780   \n",
       "50%                                0.315171     -0.229481   \n",
       "75%                                1.730008      0.448818   \n",
       "max                                2.928098      3.162013   \n",
       "\n",
       "       NumberOfTime30-59DaysPastDueNotWorse     DebtRatio  MonthlyIncome  \\\n",
       "count                          12346.000000  12346.000000   12346.000000   \n",
       "mean                               0.477863     -0.017201      -0.027364   \n",
       "std                                1.584223      0.544945       0.553847   \n",
       "min                               -0.351172     -0.173462      -0.470024   \n",
       "25%                               -0.351172     -0.173368      -0.209835   \n",
       "50%                               -0.351172     -0.173263      -0.074690   \n",
       "75%                                1.089198     -0.173009       0.042446   \n",
       "max                               16.933266     16.095748      47.086222   \n",
       "\n",
       "       NumberOfOpenCreditLinesAndLoans  NumberOfTimes90DaysLate  \\\n",
       "count                     12346.000000             12346.000000   \n",
       "mean                         -0.035405                 0.548438   \n",
       "std                           1.046218                 2.072080   \n",
       "min                          -1.652050                -0.185559   \n",
       "25%                          -0.679034                -0.185559   \n",
       "50%                          -0.289827                -0.185559   \n",
       "75%                           0.488586                -0.185559   \n",
       "max                           9.440338                31.964107   \n",
       "\n",
       "       NumberRealEstateLoansOrLines  NumberOfTime60-89DaysPastDueNotWorse  \\\n",
       "count                  12346.000000                          12346.000000   \n",
       "mean                      -0.001930                              0.459825   \n",
       "std                        1.113499                              1.883419   \n",
       "min                       -0.902578                             -0.194653   \n",
       "25%                       -0.902578                             -0.194653   \n",
       "50%                       -0.019595                             -0.194653   \n",
       "75%                        0.863388                             -0.194653   \n",
       "max                       27.352880                             34.043432   \n",
       "\n",
       "       NumberOfDependents  \n",
       "count        12346.000000  \n",
       "mean             0.075252  \n",
       "std              1.044152  \n",
       "min             -0.665523  \n",
       "25%             -0.665523  \n",
       "50%             -0.665523  \n",
       "75%              0.238818  \n",
       "max              7.473552  "
      ]
     },
     "execution_count": 31,
     "metadata": {},
     "output_type": "execute_result"
    }
   ],
   "source": [
    "X_train_clean.describe()"
   ]
  },
  {
   "cell_type": "code",
   "execution_count": 32,
   "metadata": {},
   "outputs": [
    {
     "data": {
      "text/plain": [
       "['RevolvingUtilizationOfUnsecuredLines',\n",
       " 'age',\n",
       " 'NumberOfTime30-59DaysPastDueNotWorse',\n",
       " 'DebtRatio',\n",
       " 'MonthlyIncome',\n",
       " 'NumberOfOpenCreditLinesAndLoans',\n",
       " 'NumberOfTimes90DaysLate',\n",
       " 'NumberRealEstateLoansOrLines',\n",
       " 'NumberOfTime60-89DaysPastDueNotWorse',\n",
       " 'NumberOfDependents']"
      ]
     },
     "execution_count": 32,
     "metadata": {},
     "output_type": "execute_result"
    }
   ],
   "source": [
    "X_train_clean.columns.tolist()"
   ]
  },
  {
   "cell_type": "code",
   "execution_count": null,
   "metadata": {},
   "outputs": [],
   "source": []
  }
 ],
 "metadata": {
  "kernelspec": {
   "display_name": "Python 3",
   "language": "python",
   "name": "python3"
  },
  "language_info": {
   "codemirror_mode": {
    "name": "ipython",
    "version": 3
   },
   "file_extension": ".py",
   "mimetype": "text/x-python",
   "name": "python",
   "nbconvert_exporter": "python",
   "pygments_lexer": "ipython3",
   "version": "3.9.0"
  }
 },
 "nbformat": 4,
 "nbformat_minor": 2
}
